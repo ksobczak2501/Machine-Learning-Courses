{
 "cells": [
  {
   "cell_type": "markdown",
   "id": "cd012b90",
   "metadata": {},
   "source": [
    "# Basic Modeling in scikit-learn"
   ]
  },
  {
   "cell_type": "markdown",
   "id": "38013fcb",
   "metadata": {},
   "source": [
    "## What is model validation?\n",
    "\n",
    "Model validation consists of:\n",
    "- ensure your model performs as expected on new data\n",
    "- testing model performance on holdout datasets\n",
    "- selecting the best model, parameters, accuracy metrics\n",
    "- achieving the best accuracy for the data given"
   ]
  },
  {
   "cell_type": "markdown",
   "id": "c8d89e7d",
   "metadata": {},
   "source": [
    "## Seen vs. unseen data\n",
    "Model's tend to have higher accuracy on observations they have seen before. In the candy dataset, predicting the popularity of Skittles will likely have higher accuracy than predicting the popularity of Andes Mints; Skittles is in the dataset, and Andes Mints is not.\n",
    "\n",
    "You've built a model based on 50 candies using the dataset `X_train` and need to report how accurate the model is at predicting the popularity of the 50 candies the model was built on, and the 35 candies (`X_test`) it has never seen. You will use the mean absolute error, `mae()`, as the accuracy metric."
   ]
  },
  {
   "cell_type": "code",
   "execution_count": 1,
   "id": "8c446819",
   "metadata": {},
   "outputs": [],
   "source": [
    "import pandas as pd\n",
    "df = pd.read_csv('candy-data.csv')"
   ]
  },
  {
   "cell_type": "code",
   "execution_count": 2,
   "id": "92be2a14",
   "metadata": {},
   "outputs": [
    {
     "data": {
      "text/html": [
       "<div>\n",
       "<style scoped>\n",
       "    .dataframe tbody tr th:only-of-type {\n",
       "        vertical-align: middle;\n",
       "    }\n",
       "\n",
       "    .dataframe tbody tr th {\n",
       "        vertical-align: top;\n",
       "    }\n",
       "\n",
       "    .dataframe thead th {\n",
       "        text-align: right;\n",
       "    }\n",
       "</style>\n",
       "<table border=\"1\" class=\"dataframe\">\n",
       "  <thead>\n",
       "    <tr style=\"text-align: right;\">\n",
       "      <th></th>\n",
       "      <th>competitorname</th>\n",
       "      <th>chocolate</th>\n",
       "      <th>fruity</th>\n",
       "      <th>caramel</th>\n",
       "      <th>peanutyalmondy</th>\n",
       "      <th>nougat</th>\n",
       "      <th>crispedricewafer</th>\n",
       "      <th>hard</th>\n",
       "      <th>bar</th>\n",
       "      <th>pluribus</th>\n",
       "      <th>sugarpercent</th>\n",
       "      <th>pricepercent</th>\n",
       "      <th>winpercent</th>\n",
       "    </tr>\n",
       "  </thead>\n",
       "  <tbody>\n",
       "    <tr>\n",
       "      <th>0</th>\n",
       "      <td>100 Grand</td>\n",
       "      <td>1</td>\n",
       "      <td>0</td>\n",
       "      <td>1</td>\n",
       "      <td>0</td>\n",
       "      <td>0</td>\n",
       "      <td>1</td>\n",
       "      <td>0</td>\n",
       "      <td>1</td>\n",
       "      <td>0</td>\n",
       "      <td>0.732</td>\n",
       "      <td>0.860</td>\n",
       "      <td>66.971725</td>\n",
       "    </tr>\n",
       "    <tr>\n",
       "      <th>1</th>\n",
       "      <td>3 Musketeers</td>\n",
       "      <td>1</td>\n",
       "      <td>0</td>\n",
       "      <td>0</td>\n",
       "      <td>0</td>\n",
       "      <td>1</td>\n",
       "      <td>0</td>\n",
       "      <td>0</td>\n",
       "      <td>1</td>\n",
       "      <td>0</td>\n",
       "      <td>0.604</td>\n",
       "      <td>0.511</td>\n",
       "      <td>67.602936</td>\n",
       "    </tr>\n",
       "    <tr>\n",
       "      <th>2</th>\n",
       "      <td>One dime</td>\n",
       "      <td>0</td>\n",
       "      <td>0</td>\n",
       "      <td>0</td>\n",
       "      <td>0</td>\n",
       "      <td>0</td>\n",
       "      <td>0</td>\n",
       "      <td>0</td>\n",
       "      <td>0</td>\n",
       "      <td>0</td>\n",
       "      <td>0.011</td>\n",
       "      <td>0.116</td>\n",
       "      <td>32.261086</td>\n",
       "    </tr>\n",
       "    <tr>\n",
       "      <th>3</th>\n",
       "      <td>One quarter</td>\n",
       "      <td>0</td>\n",
       "      <td>0</td>\n",
       "      <td>0</td>\n",
       "      <td>0</td>\n",
       "      <td>0</td>\n",
       "      <td>0</td>\n",
       "      <td>0</td>\n",
       "      <td>0</td>\n",
       "      <td>0</td>\n",
       "      <td>0.011</td>\n",
       "      <td>0.511</td>\n",
       "      <td>46.116505</td>\n",
       "    </tr>\n",
       "    <tr>\n",
       "      <th>4</th>\n",
       "      <td>Air Heads</td>\n",
       "      <td>0</td>\n",
       "      <td>1</td>\n",
       "      <td>0</td>\n",
       "      <td>0</td>\n",
       "      <td>0</td>\n",
       "      <td>0</td>\n",
       "      <td>0</td>\n",
       "      <td>0</td>\n",
       "      <td>0</td>\n",
       "      <td>0.906</td>\n",
       "      <td>0.511</td>\n",
       "      <td>52.341465</td>\n",
       "    </tr>\n",
       "  </tbody>\n",
       "</table>\n",
       "</div>"
      ],
      "text/plain": [
       "  competitorname  chocolate  fruity  caramel  peanutyalmondy  nougat  \\\n",
       "0      100 Grand          1       0        1               0       0   \n",
       "1   3 Musketeers          1       0        0               0       1   \n",
       "2       One dime          0       0        0               0       0   \n",
       "3    One quarter          0       0        0               0       0   \n",
       "4      Air Heads          0       1        0               0       0   \n",
       "\n",
       "   crispedricewafer  hard  bar  pluribus  sugarpercent  pricepercent  \\\n",
       "0                 1     0    1         0         0.732         0.860   \n",
       "1                 0     0    1         0         0.604         0.511   \n",
       "2                 0     0    0         0         0.011         0.116   \n",
       "3                 0     0    0         0         0.011         0.511   \n",
       "4                 0     0    0         0         0.906         0.511   \n",
       "\n",
       "   winpercent  \n",
       "0   66.971725  \n",
       "1   67.602936  \n",
       "2   32.261086  \n",
       "3   46.116505  \n",
       "4   52.341465  "
      ]
     },
     "execution_count": 2,
     "metadata": {},
     "output_type": "execute_result"
    }
   ],
   "source": [
    "df.head()"
   ]
  },
  {
   "cell_type": "code",
   "execution_count": 3,
   "id": "c7f102dd",
   "metadata": {},
   "outputs": [],
   "source": [
    "X_train = df.drop(['winpercent', 'competitorname'], axis=1).head(50)\n",
    "y_train = df[['winpercent']].head(50)"
   ]
  },
  {
   "cell_type": "code",
   "execution_count": null,
   "id": "57e3c755",
   "metadata": {},
   "outputs": [],
   "source": []
  },
  {
   "cell_type": "code",
   "execution_count": 5,
   "id": "09136db5",
   "metadata": {},
   "outputs": [],
   "source": [
    "X_test = df.drop(['winpercent', 'competitorname'], axis=1).tail(35)\n",
    "y_test = df[['winpercent']].tail(35)"
   ]
  },
  {
   "cell_type": "code",
   "execution_count": 6,
   "id": "4ece4045",
   "metadata": {},
   "outputs": [],
   "source": [
    "from sklearn.ensemble import RandomForestRegressor\n",
    "model = RandomForestRegressor()"
   ]
  },
  {
   "cell_type": "code",
   "execution_count": 7,
   "id": "8458f0a0",
   "metadata": {},
   "outputs": [
    {
     "name": "stdout",
     "output_type": "stream",
     "text": [
      "Model error on seen data: 3.33.\n",
      "Model error on unseen data: 10.85.\n"
     ]
    },
    {
     "name": "stderr",
     "output_type": "stream",
     "text": [
      "<ipython-input-7-eb9cfab2d183>:2: DataConversionWarning: A column-vector y was passed when a 1d array was expected. Please change the shape of y to (n_samples,), for example using ravel().\n",
      "  model.fit(X_train, y_train)\n"
     ]
    }
   ],
   "source": [
    "# The model is fit using X_train and y_train\n",
    "model.fit(X_train, y_train)\n",
    "\n",
    "# Create vectors of predictions\n",
    "train_predictions = model.predict(X_train)\n",
    "test_predictions = model.predict(X_test)\n",
    "\n",
    "# Train/Test Errors\n",
    "from sklearn.metrics import mean_absolute_error as mae\n",
    "train_error = mae(y_true=y_train, y_pred=train_predictions)\n",
    "test_error = mae(y_true=y_test, y_pred=test_predictions)\n",
    "\n",
    "# Print the accuracy for seen and unseen data\n",
    "print(\"Model error on seen data: {0:.2f}.\".format(train_error))\n",
    "print(\"Model error on unseen data: {0:.2f}.\".format(test_error))"
   ]
  },
  {
   "cell_type": "markdown",
   "id": "3f7d2f2f",
   "metadata": {},
   "source": [
    "## Regression models\n",
    "- `n_estimators`: the number of trees in the forest\n",
    "- `max_depth`: the maximum depth of the trees"
   ]
  },
  {
   "cell_type": "markdown",
   "id": "d7474282",
   "metadata": {},
   "source": [
    "## Set parameters and fit a model\n",
    "Predictive tasks fall into one of two categories: regression or classification. In the candy dataset, the outcome is a continuous variable describing how often the candy was chosen over another candy in a series of 1-on-1 match-ups. To predict this value (the win-percentage), you will use a regression model."
   ]
  },
  {
   "cell_type": "code",
   "execution_count": 8,
   "id": "11c25f67",
   "metadata": {},
   "outputs": [],
   "source": [
    "rfr = RandomForestRegressor()"
   ]
  },
  {
   "cell_type": "code",
   "execution_count": 9,
   "id": "a47ec3dd",
   "metadata": {},
   "outputs": [
    {
     "name": "stderr",
     "output_type": "stream",
     "text": [
      "<ipython-input-9-6224c7357b5c>:11: DataConversionWarning: A column-vector y was passed when a 1d array was expected. Please change the shape of y to (n_samples,), for example using ravel().\n",
      "  rfr.fit(X_train, y_train)\n"
     ]
    },
    {
     "data": {
      "text/plain": [
       "RandomForestRegressor(max_depth=6, random_state=1111)"
      ]
     },
     "execution_count": 9,
     "metadata": {},
     "output_type": "execute_result"
    }
   ],
   "source": [
    "# Set the number of trees\n",
    "rfr.n_estimators = 100\n",
    "\n",
    "# Add a maximum depth\n",
    "rfr.max_depth = 6\n",
    "\n",
    "# Set the random state\n",
    "rfr.random_state = 1111\n",
    "\n",
    "# Fit the model\n",
    "rfr.fit(X_train, y_train)"
   ]
  },
  {
   "cell_type": "markdown",
   "id": "8fc35864",
   "metadata": {},
   "source": [
    "## Feature importances\n",
    "Although some candy attributes, such as chocolate, may be extremely popular, it doesn't mean they will be important to model prediction. After a random forest model has been fit, you can review the model's attribute, `.feature_importances_`, to see which variables had the biggest impact. You can check how important each variable was in the model by looping over the feature importance array using `enumerate()`."
   ]
  },
  {
   "cell_type": "code",
   "execution_count": 10,
   "id": "1a253710",
   "metadata": {},
   "outputs": [
    {
     "name": "stdout",
     "output_type": "stream",
     "text": [
      "chocolate: 0.61\n",
      "fruity: 0.02\n",
      "caramel: 0.02\n",
      "peanutyalmondy: 0.01\n",
      "nougat: 0.02\n",
      "crispedricewafer: 0.03\n",
      "hard: 0.00\n",
      "bar: 0.00\n",
      "pluribus: 0.02\n",
      "sugarpercent: 0.15\n",
      "pricepercent: 0.11\n"
     ]
    },
    {
     "name": "stderr",
     "output_type": "stream",
     "text": [
      "<ipython-input-10-c05dcf270755>:2: DataConversionWarning: A column-vector y was passed when a 1d array was expected. Please change the shape of y to (n_samples,), for example using ravel().\n",
      "  rfr.fit(X_train, y_train)\n"
     ]
    }
   ],
   "source": [
    "# Fit the model using X and y\n",
    "rfr.fit(X_train, y_train)\n",
    "\n",
    "# Print how important each column is to the model\n",
    "for i, item in enumerate(rfr.feature_importances_):\n",
    "      # Use i and item to print out the feature importance of each column\n",
    "    print(\"{0:s}: {1:.2f}\".format(X_train.columns[i], item))"
   ]
  },
  {
   "cell_type": "markdown",
   "id": "d95c2c47",
   "metadata": {},
   "source": [
    "## Classification predictions\n",
    "In model validation, it is often important to know more about the predictions than just the final classification. When predicting who will win a game, most people are also interested in how likely it is a team will win.\n",
    "\n",
    "In this exercise, you look at the methods, `.predict()` and `.predict_proba()` using the tic_tac_toe dataset. The first method will give a prediction of whether Player One will win the game, and the second method will provide the probability of Player One winning. Use `rfc` as the random forest classification model."
   ]
  },
  {
   "cell_type": "code",
   "execution_count": 11,
   "id": "36994ebc",
   "metadata": {},
   "outputs": [],
   "source": [
    "tic_tac_toe = pd.read_csv('tic-tac-toe.csv')\n",
    "\n",
    "from sklearn.model_selection import train_test_split\n",
    "\n",
    "X = pd.get_dummies(tic_tac_toe.drop('Class', axis=1))\n",
    "y = tic_tac_toe['Class']\n",
    "\n",
    "X_train, X_test, y_train, y_test = train_test_split(X, y, test_size=0.2, random_state=1111)"
   ]
  },
  {
   "cell_type": "code",
   "execution_count": 12,
   "id": "dc66a694",
   "metadata": {},
   "outputs": [
    {
     "name": "stdout",
     "output_type": "stream",
     "text": [
      "positive    132\n",
      "negative     60\n",
      "dtype: int64\n",
      "The first predicted probabilities are: [0.22 0.78]\n"
     ]
    }
   ],
   "source": [
    "from sklearn.ensemble import RandomForestClassifier\n",
    "rfc = RandomForestClassifier()\n",
    "\n",
    "# Fit the rfc model. \n",
    "rfc.fit(X_train, y_train)\n",
    "\n",
    "# Create arrays of predictions\n",
    "classification_predictions = rfc.predict(X_test)\n",
    "probability_predictions = rfc.predict_proba(X_test)\n",
    "\n",
    "# Print out count of binary predictions\n",
    "print(pd.Series(classification_predictions).value_counts())\n",
    "\n",
    "# Print the first value from probability_predictions\n",
    "print('The first predicted probabilities are: {}'.format(probability_predictions[0]))"
   ]
  },
  {
   "cell_type": "markdown",
   "id": "7b39a9ab",
   "metadata": {},
   "source": [
    "## Random forest classifier\n",
    "This exercise reviews the four modeling steps discussed throughout this chapter using a random forest classification model. You will:\n",
    "\n",
    "1. Create a random forest classification model.\n",
    "2. Fit the model using the tic_tac_toe dataset.\n",
    "3. Make predictions on whether Player One will win (1) or lose (0) the current game.\n",
    "4. Finally, you will evaluate the overall accuracy of the model.\n",
    "Let's get started!"
   ]
  },
  {
   "cell_type": "code",
   "execution_count": 13,
   "id": "435dfb8d",
   "metadata": {},
   "outputs": [],
   "source": [
    "from sklearn.ensemble import RandomForestClassifier\n",
    "\n",
    "# Create a random forest classifier\n",
    "rfc = RandomForestClassifier(n_estimators=50, max_depth=6, random_state=1111)"
   ]
  },
  {
   "cell_type": "code",
   "execution_count": 14,
   "id": "4fa9ec43",
   "metadata": {},
   "outputs": [
    {
     "data": {
      "text/plain": [
       "RandomForestClassifier(max_depth=6, n_estimators=50, random_state=1111)"
      ]
     },
     "execution_count": 14,
     "metadata": {},
     "output_type": "execute_result"
    }
   ],
   "source": [
    "from sklearn.ensemble import RandomForestClassifier\n",
    "\n",
    "# Create a random forest classifier\n",
    "rfc = RandomForestClassifier(n_estimators=50, max_depth=6, random_state=1111)\n",
    "\n",
    "# Fit rfc using X_train and y_train\n",
    "rfc.fit(X_train, y_train)"
   ]
  },
  {
   "cell_type": "code",
   "execution_count": 15,
   "id": "c9c182a8",
   "metadata": {},
   "outputs": [
    {
     "name": "stdout",
     "output_type": "stream",
     "text": [
      "['positive' 'positive' 'positive' 'positive' 'positive']\n",
      "0.9010416666666666\n"
     ]
    }
   ],
   "source": [
    "# Create predictions on X_test\n",
    "predictions = rfc.predict(X_test)\n",
    "print(predictions[0:5])\n",
    "\n",
    "# Print model accuracy using score() and the testing data\n",
    "print(rfc.score(X_test, y_test))"
   ]
  },
  {
   "cell_type": "markdown",
   "id": "14f09893",
   "metadata": {},
   "source": [
    "## Creating train, test, and validation datasets\n"
   ]
  },
  {
   "cell_type": "markdown",
   "id": "681d2e6d",
   "metadata": {},
   "source": [
    "## Create one holdout set\n",
    "Your boss has asked you to create a simple random forest model on the tic_tac_toe dataset. She doesn't want you to spend much time selecting parameters; rather she wants to know how well the model will perform on future data. For future `Tic-Tac-Toe` games, it would be nice to know if your model can predict which player will win.\n",
    "\n",
    "The dataset tic_tac_toe has been loaded for your use."
   ]
  },
  {
   "cell_type": "code",
   "execution_count": 16,
   "id": "b5a246ae",
   "metadata": {},
   "outputs": [],
   "source": [
    "# Create dummy variables using pandas\n",
    "X = pd.get_dummies(tic_tac_toe.iloc[:,0:9])\n",
    "y = tic_tac_toe.iloc[:, 9]\n",
    "\n",
    "# Create training and testing datasets. Use 10% for the test set\n",
    "X_train, X_test, y_train, y_test  = train_test_split(X, y, test_size=0.1, random_state=1111)"
   ]
  },
  {
   "cell_type": "markdown",
   "id": "320517f6",
   "metadata": {},
   "source": [
    "## Create two holdout sets\n",
    "You recently created a simple random forest model to predict Tic-Tac-Toe game wins for your boss, and at her request, you did not do any parameter tuning. Unfortunately, the overall model accuracy was too low for her standards. This time around, she has asked you to focus on model performance.\n",
    "\n",
    "Before you start testing different models and parameter sets, you will need to split the data into training, validation, and testing datasets. Remember that after splitting the data into training and testing datasets, the validation dataset is created by splitting the training dataset.\n",
    "\n",
    "The datasets `X` and `y` have been loaded for your use."
   ]
  },
  {
   "cell_type": "code",
   "execution_count": 17,
   "id": "db1e2a47",
   "metadata": {},
   "outputs": [],
   "source": [
    "# Create temporary training and final testing datasets\n",
    "X_temp, X_test, y_temp, y_test  =\\\n",
    "    train_test_split(X, y, test_size=0.2, random_state=1111)\n",
    "\n",
    "# Create the final training and validation datasets\n",
    "X_train, X_val, y_train, y_val =\\\n",
    "    train_test_split(X_temp, y_temp, test_size=0.25, random_state=1111)"
   ]
  },
  {
   "cell_type": "markdown",
   "id": "c0aea441",
   "metadata": {},
   "source": [
    "## Accuracy metrics: regression models\n"
   ]
  },
  {
   "cell_type": "markdown",
   "id": "1ad07961",
   "metadata": {},
   "source": [
    "### MAE\n",
    "- treats all pints equally\n",
    "- not sensitive to outliers\n",
    "\n",
    "### MSE\n",
    "- allow outlier errors to contribute more to the overall error\n",
    "- most widely used regression metric"
   ]
  },
  {
   "cell_type": "markdown",
   "id": "740bdcff",
   "metadata": {},
   "source": [
    "## Mean absolute error\n",
    "Communicating modeling results can be difficult. However, most clients understand that on average, a predictive model was off by some number. This makes explaining the mean absolute error easy. For example, when predicting the number of wins for a basketball team, if you predict 42, and they end up with 40, you can easily explain that the error was two wins.\n",
    "\n",
    "In this exercise, you are interviewing for a new position and are provided with two arrays. `y_test`, the true number of wins for all 30 NBA teams in 2017 and `predictions`, which contains a prediction for each team. To test your understanding, you are asked to both manually calculate the MAE and use `sklearn`."
   ]
  },
  {
   "cell_type": "code",
   "execution_count": 18,
   "id": "1ff24e29",
   "metadata": {},
   "outputs": [],
   "source": [
    "import numpy as np\n",
    "\n",
    "predictions = np.array([60, 62, 42, 42, 30, 50, 52, 42, 44, 35, 30, 30, 35, 40, 15, 72, 58,\n",
    "       60, 40, 42, 45, 46, 40, 35, 25, 40, 20, 34, 25, 24])\n",
    "y_test = np.array([53, 51, 51, 49, 43, 42, 42, 41, 41, 37, 36, 31, 29, 28, 20, 67, 61,\n",
    "       55, 51, 51, 47, 43, 41, 40, 34, 33, 32, 31, 26, 24])"
   ]
  },
  {
   "cell_type": "code",
   "execution_count": 19,
   "id": "cee78c26",
   "metadata": {},
   "outputs": [
    {
     "name": "stdout",
     "output_type": "stream",
     "text": [
      "With a manual calculation, the error is 5.9\n",
      "Using scikit-lean, the error is 5.9\n"
     ]
    }
   ],
   "source": [
    "from sklearn.metrics import mean_absolute_error\n",
    "\n",
    "# Manually calculate the MAE\n",
    "n = len(predictions)\n",
    "mae_one = sum(abs(y_test - predictions)) / n\n",
    "print('With a manual calculation, the error is {}'.format(mae_one))\n",
    "\n",
    "# Use scikit-learn to calculate the MAE\n",
    "mae_two = mean_absolute_error(y_test, predictions)\n",
    "print('Using scikit-lean, the error is {}'.format(mae_two))"
   ]
  },
  {
   "cell_type": "markdown",
   "id": "872d9eb7",
   "metadata": {},
   "source": [
    "## Mean squared error\n",
    "Let's focus on the 2017 NBA predictions again. Every year, there are at least a couple of NBA teams that win way more games than expected. If you use the MAE, this accuracy metric does not reflect the bad predictions as much as if you use the MSE. Squaring the large errors from bad predictions will make the accuracy look worse.\n",
    "\n",
    "In this example, NBA executives want to better predict team wins. You will use the mean squared error to calculate the prediction error. The actual wins are loaded as `y_test` and the predictions as `predictions`."
   ]
  },
  {
   "cell_type": "code",
   "execution_count": 20,
   "id": "b0efaf82",
   "metadata": {},
   "outputs": [
    {
     "name": "stdout",
     "output_type": "stream",
     "text": [
      "With a manual calculation, the error is 49.1\n",
      "Using scikit-lean, the error is 49.1\n"
     ]
    }
   ],
   "source": [
    "from sklearn.metrics import mean_squared_error\n",
    "\n",
    "n = len(predictions)\n",
    "# Finish the manual calculation of the MSE\n",
    "mse_one = sum((y_test - predictions)**2) / n\n",
    "print('With a manual calculation, the error is {}'.format(mse_one))\n",
    "\n",
    "# Use the scikit-learn function to calculate MSE\n",
    "mse_two = mean_squared_error(y_test, predictions)\n",
    "print('Using scikit-lean, the error is {}'.format(mse_two))"
   ]
  },
  {
   "cell_type": "markdown",
   "id": "c4206a6a",
   "metadata": {},
   "source": [
    "## Performance on data subsets\n",
    "In professional basketball, there are two conferences, the East and the West. Coaches and fans often only care about how teams in their own conference will do this year.\n",
    "\n",
    "You have been working on an NBA prediction model and would like to determine if the predictions were better for the East or West conference. You added a third array to your data called `labels`, which contains an \"E\" for the East teams, and a \"W\" for the West. `y_test` and `predictions` have again been loaded for your use."
   ]
  },
  {
   "cell_type": "code",
   "execution_count": 21,
   "id": "f9308a7f",
   "metadata": {},
   "outputs": [],
   "source": [
    "labels = np.array(['E', 'E', 'E', 'E', 'E', 'E', 'E', 'E', 'E', 'E', 'E', 'E', 'E',\n",
    "       'E', 'E', 'W', 'W', 'W', 'W', 'W', 'W', 'W', 'W', 'W', 'W', 'W',\n",
    "       'W', 'W', 'W', 'W'], dtype='<U1')"
   ]
  },
  {
   "cell_type": "code",
   "execution_count": 22,
   "id": "089319c7",
   "metadata": {},
   "outputs": [],
   "source": [
    "west_error = 5.01"
   ]
  },
  {
   "cell_type": "code",
   "execution_count": 23,
   "id": "0f984b01",
   "metadata": {},
   "outputs": [
    {
     "name": "stdout",
     "output_type": "stream",
     "text": [
      "The MAE for East teams is 6.733333333333333\n",
      "The MAE for West conference is 5.01\n"
     ]
    }
   ],
   "source": [
    "# Find the East conference teams\n",
    "east_teams = labels == \"E\"\n",
    "\n",
    "# Create arrays for the true and predicted values\n",
    "true_east = y_test[east_teams]\n",
    "preds_east = predictions[east_teams]\n",
    "\n",
    "# Print the accuracy metrics\n",
    "print('The MAE for East teams is {}'.format(\n",
    "    mae(true_east, preds_east)))\n",
    "\n",
    "# Print the West accuracy\n",
    "print('The MAE for West conference is {}'.format(west_error))"
   ]
  },
  {
   "cell_type": "markdown",
   "id": "85fb02c5",
   "metadata": {},
   "source": [
    "## Classification metrics\n"
   ]
  },
  {
   "cell_type": "markdown",
   "id": "27fe7696",
   "metadata": {},
   "source": [
    "## Confusion matrices\n",
    "Confusion matrices are a great way to start exploring your model's accuracy. They provide the values needed to calculate a wide range of metrics, including sensitivity, specificity, and the F1-score.\n",
    "\n",
    "You have built a classification model to predict if a person has a broken arm based on an X-ray image. On the testing set, you have the following confusion matrix:"
   ]
  },
  {
   "cell_type": "raw",
   "id": "57dbda36",
   "metadata": {},
   "source": [
    "[[324, 15]\n",
    "[123, 491]]"
   ]
  },
  {
   "cell_type": "code",
   "execution_count": 24,
   "id": "a6ffe336",
   "metadata": {},
   "outputs": [
    {
     "name": "stdout",
     "output_type": "stream",
     "text": [
      "The overall accuracy is  0.86\n",
      "The precision is  0.97\n",
      "The recall is  0.80\n"
     ]
    }
   ],
   "source": [
    "# Calculate and print the accuracy\n",
    "accuracy = (324 + 491) / (953)\n",
    "print(\"The overall accuracy is {0: 0.2f}\".format(accuracy))\n",
    "\n",
    "# Calculate and print the precision\n",
    "precision = (491) / (15 + 491)\n",
    "print(\"The precision is {0: 0.2f}\".format(precision))\n",
    "\n",
    "# Calculate and print the recall\n",
    "recall = (491) / (123 + 491)\n",
    "print(\"The recall is {0: 0.2f}\".format(recall))"
   ]
  },
  {
   "cell_type": "markdown",
   "id": "d04bf84f",
   "metadata": {},
   "source": [
    "## Confusion matrices, again\n",
    "Creating a confusion matrix in Python is simple. The biggest challenge will be making sure you understand the orientation of the matrix. This exercise makes sure you understand the `sklearn` implementation of confusion matrices. Here, you have created a random forest model using the `tic_tac_toe` dataset `rfc` to predict outcomes of 0 (loss) or 1 (a win) for Player One."
   ]
  },
  {
   "cell_type": "code",
   "execution_count": 25,
   "id": "13595e87",
   "metadata": {},
   "outputs": [],
   "source": [
    "# Create dummy variables using pandas\n",
    "X = pd.get_dummies(tic_tac_toe.iloc[:,0:9])\n",
    "y = tic_tac_toe.iloc[:, 9]\n",
    "\n",
    "# Create training and testing datasets. Use 10% for the test set\n",
    "X_train, X_test, y_train, y_test  = train_test_split(X, y, test_size=0.1, random_state=1111)"
   ]
  },
  {
   "cell_type": "code",
   "execution_count": 26,
   "id": "f0e41ad6",
   "metadata": {},
   "outputs": [
    {
     "name": "stdout",
     "output_type": "stream",
     "text": [
      "[[20 10]\n",
      " [ 0 66]]\n",
      "The number of true positives is: 66\n"
     ]
    }
   ],
   "source": [
    "from sklearn.metrics import confusion_matrix\n",
    "\n",
    "# Create predictions\n",
    "test_predictions = rfc.predict(X_test)\n",
    "\n",
    "# Create and print the confusion matrix\n",
    "cm = confusion_matrix(y_test, test_predictions)\n",
    "print(cm)\n",
    "\n",
    "# Print the true positives (actual 1s that were predicted 1s)\n",
    "print(\"The number of true positives is: {}\".format(cm[1, 1]))"
   ]
  },
  {
   "cell_type": "markdown",
   "id": "44cc8949",
   "metadata": {},
   "source": [
    "## Precision vs. recall\n",
    "The accuracy metrics you use to evaluate your model should always be based on the specific application. For this example, let's assume you are a really sore loser when it comes to playing Tic-Tac-Toe, but only when you are certain that you are going to win.\n",
    "\n",
    "Choose the most appropriate accuracy metric, either precision or recall, to complete this example. But remember, if you think you are going to win, you better win!"
   ]
  },
  {
   "cell_type": "code",
   "execution_count": null,
   "id": "c06ba47e",
   "metadata": {},
   "outputs": [],
   "source": [
    "from sklearn.metrics import precision_score\n",
    "\n",
    "test_predictions = rfc.predict(X_test)\n",
    "\n",
    "# Create precision or recall score based on the metric you imported\n",
    "score = precision_score(y_test, test_predictions)\n",
    "\n",
    "# Print the final result\n",
    "print(\"The precision value is {0:.2f}\".format(score))"
   ]
  },
  {
   "cell_type": "markdown",
   "id": "0d9f4cd1",
   "metadata": {},
   "source": [
    "## The bias-variance tradeoff\n"
   ]
  },
  {
   "cell_type": "markdown",
   "id": "c3f3ceba",
   "metadata": {},
   "source": [
    "### Variance: following the training data too closely\n",
    "- Fails to generalize to the test data\n",
    "- Low training error but high testing error\n",
    "- Occurs when models are overfit and have high complexity\n",
    "\n",
    "### Bias: failing to find the relationship between the data and the response\n",
    "- High training/testing error\n",
    "- Occurs when models are underfit"
   ]
  },
  {
   "cell_type": "markdown",
   "id": "2e3c7bd1",
   "metadata": {},
   "source": [
    "## Error due to under/over-fitting\n",
    "The candy dataset is prime for overfitting. With only 85 observations, if you use 20% for the testing dataset, you are losing a lot of vital data that could be used for modeling. Imagine the scenario where most of the chocolate candies ended up in the training data and very few in the holdout sample. Our model might only see that chocolate is a vital factor, but fail to find that other attributes are also important. In this exercise, you'll explore how using too many features (columns) in a random forest model can lead to overfitting."
   ]
  },
  {
   "cell_type": "code",
   "execution_count": 28,
   "id": "33263872",
   "metadata": {},
   "outputs": [],
   "source": [
    "import pandas as pd\n",
    "df = pd.read_csv('candy-data.csv')"
   ]
  },
  {
   "cell_type": "code",
   "execution_count": 29,
   "id": "80ef6c8e",
   "metadata": {},
   "outputs": [],
   "source": [
    "X_train = df.drop(['winpercent', 'competitorname'], axis=1).head(50)\n",
    "y_train = df[['winpercent']].head(50)"
   ]
  },
  {
   "cell_type": "code",
   "execution_count": 30,
   "id": "b4cc854c",
   "metadata": {},
   "outputs": [],
   "source": [
    "X_test = df.drop(['winpercent', 'competitorname'], axis=1).tail(35)\n",
    "y_test = df[['winpercent']].tail(35)"
   ]
  },
  {
   "cell_type": "code",
   "execution_count": 31,
   "id": "90a63b35",
   "metadata": {},
   "outputs": [
    {
     "name": "stdout",
     "output_type": "stream",
     "text": [
      "The training error is 3.11\n",
      "The testing error is 11.77\n"
     ]
    },
    {
     "name": "stderr",
     "output_type": "stream",
     "text": [
      "<ipython-input-31-20b73f6ec065>:5: DataConversionWarning: A column-vector y was passed when a 1d array was expected. Please change the shape of y to (n_samples,), for example using ravel().\n",
      "  rfr.fit(X_train, y_train)\n"
     ]
    }
   ],
   "source": [
    "# Update the rfr model\n",
    "rfr = RandomForestRegressor(n_estimators=25,\n",
    "                            random_state=1111,\n",
    "                            max_features=2)\n",
    "rfr.fit(X_train, y_train)\n",
    "\n",
    "# Print the training and testing accuracies \n",
    "print('The training error is {0:.2f}'.format(\n",
    "  mae(y_train, rfr.predict(X_train))))\n",
    "print('The testing error is {0:.2f}'.format(\n",
    "  mae(y_test, rfr.predict(X_test))))"
   ]
  },
  {
   "cell_type": "code",
   "execution_count": 32,
   "id": "70a89a96",
   "metadata": {},
   "outputs": [
    {
     "name": "stderr",
     "output_type": "stream",
     "text": [
      "<ipython-input-32-fcd37684184e>:5: DataConversionWarning: A column-vector y was passed when a 1d array was expected. Please change the shape of y to (n_samples,), for example using ravel().\n",
      "  rfr.fit(X_train, y_train)\n"
     ]
    },
    {
     "name": "stdout",
     "output_type": "stream",
     "text": [
      "The training error is 3.20\n",
      "The testing error is 11.14\n"
     ]
    }
   ],
   "source": [
    "# Update the rfr model\n",
    "rfr = RandomForestRegressor(n_estimators=25,\n",
    "                            random_state=1111,\n",
    "                            max_features=11)\n",
    "rfr.fit(X_train, y_train)\n",
    "\n",
    "# Print the training and testing accuracies \n",
    "print('The training error is {0:.2f}'.format(\n",
    "  mae(y_train, rfr.predict(X_train))))\n",
    "print('The testing error is {0:.2f}'.format(\n",
    "  mae(y_test, rfr.predict(X_test))))"
   ]
  },
  {
   "cell_type": "code",
   "execution_count": 33,
   "id": "d2532f6b",
   "metadata": {},
   "outputs": [
    {
     "name": "stdout",
     "output_type": "stream",
     "text": [
      "The training error is 3.36\n",
      "The testing error is 11.31\n"
     ]
    },
    {
     "name": "stderr",
     "output_type": "stream",
     "text": [
      "<ipython-input-33-359e8db08944>:5: DataConversionWarning: A column-vector y was passed when a 1d array was expected. Please change the shape of y to (n_samples,), for example using ravel().\n",
      "  rfr.fit(X_train, y_train)\n"
     ]
    }
   ],
   "source": [
    "# Update the rfr model\n",
    "rfr = RandomForestRegressor(n_estimators=25,\n",
    "                            random_state=1111,\n",
    "                            max_features=4)\n",
    "rfr.fit(X_train, y_train)\n",
    "\n",
    "# Print the training and testing accuracies \n",
    "print('The training error is {0:.2f}'.format(\n",
    "  mae(y_train, rfr.predict(X_train))))\n",
    "print('The testing error is {0:.2f}'.format(\n",
    "  mae(y_test, rfr.predict(X_test))))"
   ]
  },
  {
   "cell_type": "markdown",
   "id": "08f995d0",
   "metadata": {},
   "source": [
    "## Am I underfitting?\n",
    "You are creating a random forest model to predict if you will win a future game of Tic-Tac-Toe. Using the `tic_tac_toe` dataset, you have created training and testing datasets, `X_train`, `X_test`, `y_train`, and `y_test`.\n",
    "\n",
    "You have decided to create a bunch of random forest models with varying amounts of trees (1, 2, 3, 4, 5, 10, 20, and 50). The more trees you use, the longer your random forest model will take to run. However, if you don't use enough trees, you risk underfitting. You have created a for loop to test your model at the different number of trees."
   ]
  },
  {
   "cell_type": "code",
   "execution_count": null,
   "id": "8f4f53e4",
   "metadata": {},
   "outputs": [],
   "source": [
    "from sklearn.metrics import accuracy_score\n",
    "\n",
    "test_scores, train_scores = [], []\n",
    "\n",
    "for i in [1, 2, 3, 4, 5, 10, 20, 50]:\n",
    "    rfc = RandomForestClassifier(n_estimators=i, random_state=1111)\n",
    "    rfc.fit(X_train, y_train)\n",
    "    # Create predictions for the X_train and X_test datasets.\n",
    "    train_predictions = rfc.predict(X_train)\n",
    "    test_predictions = rfc.predict(X_test)\n",
    "    # Append the accuracy score for the test and train predictions.\n",
    "    train_scores.append(round(accuracy_score(y_train, train_predictions), 2))\n",
    "    test_scores.append(round(accuracy_score(y_test, test_predictions), 2))\n",
    "    \n",
    "# Print the train and test scores.\n",
    "print(\"The training scores were: {}\".format(train_scores))\n",
    "print(\"The testing scores were: {}\".format(test_scores))"
   ]
  },
  {
   "cell_type": "markdown",
   "id": "e2cad521",
   "metadata": {},
   "source": [
    "# Cross Validation"
   ]
  },
  {
   "cell_type": "markdown",
   "id": "68e7e520",
   "metadata": {},
   "source": [
    "## Two samples\n",
    "After building several classification models based on the `tic_tac_toe` dataset, you realize that some models do not generalize as well as others. You have created training and testing splits just as you have been taught, so you are curious why your validation process is not working.\n",
    "\n",
    "After trying a different training, test split, you noticed differing accuracies for your machine learning model. Before getting too frustrated with the varying results, you have decided to see what else could be going on."
   ]
  },
  {
   "cell_type": "code",
   "execution_count": 35,
   "id": "0aa254a6",
   "metadata": {},
   "outputs": [],
   "source": [
    "import pandas as pd"
   ]
  },
  {
   "cell_type": "code",
   "execution_count": 36,
   "id": "af263fd2",
   "metadata": {},
   "outputs": [],
   "source": [
    "tic_tac_toe = pd.read_csv(\"tic-tac-toe.csv\")"
   ]
  },
  {
   "cell_type": "code",
   "execution_count": 37,
   "id": "e320a535",
   "metadata": {},
   "outputs": [],
   "source": [
    "# Create two different samples of 200 observations \n",
    "sample1 = tic_tac_toe.sample(200, random_state=1111)\n",
    "sample2 = tic_tac_toe.sample(200, random_state=1171)"
   ]
  },
  {
   "cell_type": "code",
   "execution_count": 38,
   "id": "66350225",
   "metadata": {},
   "outputs": [
    {
     "name": "stdout",
     "output_type": "stream",
     "text": [
      "40\n"
     ]
    }
   ],
   "source": [
    "# Print the number of common observations \n",
    "print(len([index for index in sample1.index if index in sample2.index]))"
   ]
  },
  {
   "cell_type": "code",
   "execution_count": 39,
   "id": "65d39904",
   "metadata": {},
   "outputs": [
    {
     "name": "stdout",
     "output_type": "stream",
     "text": [
      "positive    134\n",
      "negative     66\n",
      "Name: Class, dtype: int64\n",
      "positive    123\n",
      "negative     77\n",
      "Name: Class, dtype: int64\n"
     ]
    }
   ],
   "source": [
    "# Print the number of observations in the Class column for both samples \n",
    "print(sample1['Class'].value_counts())\n",
    "print(sample2['Class'].value_counts())"
   ]
  },
  {
   "cell_type": "markdown",
   "id": "3ff1b168",
   "metadata": {},
   "source": [
    "## scikit-learn's KFold()\n",
    "You just finished running a colleagues code that creates a random forest model and calculates an out-of-sample accuracy. You noticed that your colleague's code did not have a random state, and the errors you found were completely different than the errors your colleague reported.\n",
    "\n",
    "To get a better estimate for how accurate this random forest model will be on new data, you have decided to generate some indices to use for KFold cross-validation."
   ]
  },
  {
   "cell_type": "code",
   "execution_count": 40,
   "id": "105221a0",
   "metadata": {},
   "outputs": [],
   "source": [
    "import numpy as np"
   ]
  },
  {
   "cell_type": "code",
   "execution_count": 41,
   "id": "2893e33e",
   "metadata": {},
   "outputs": [],
   "source": [
    "X = np.array([[1.        , 0.        , 1.        , 0.        , 0.        ,\n",
    "        1.        , 0.        , 1.        , 0.        , 0.73199999,\n",
    "        0.86000001],\n",
    "       [1.        , 0.        , 0.        , 0.        , 1.        ,\n",
    "        0.        , 0.        , 1.        , 0.        , 0.60399997,\n",
    "        0.51099998],\n",
    "       [0.        , 0.        , 0.        , 0.        , 0.        ,\n",
    "        0.        , 0.        , 0.        , 0.        , 0.011     ,\n",
    "        0.116     ],\n",
    "       [0.        , 0.        , 0.        , 0.        , 0.        ,\n",
    "        0.        , 0.        , 0.        , 0.        , 0.011     ,\n",
    "        0.51099998],\n",
    "       [0.        , 1.        , 0.        , 0.        , 0.        ,\n",
    "        0.        , 0.        , 0.        , 0.        , 0.90600002,\n",
    "        0.51099998],\n",
    "       [1.        , 0.        , 0.        , 1.        , 0.        ,\n",
    "        0.        , 0.        , 1.        , 0.        , 0.465     ,\n",
    "        0.76700002],\n",
    "       [1.        , 0.        , 1.        , 1.        , 1.        ,\n",
    "        0.        , 0.        , 1.        , 0.        , 0.60399997,\n",
    "        0.76700002],\n",
    "       [0.        , 0.        , 0.        , 1.        , 0.        ,\n",
    "        0.        , 0.        , 0.        , 1.        , 0.31299999,\n",
    "        0.51099998],\n",
    "       [0.        , 0.        , 0.        , 0.        , 0.        ,\n",
    "        0.        , 0.        , 0.        , 1.        , 0.90600002,\n",
    "        0.32499999],\n",
    "       [0.        , 1.        , 1.        , 0.        , 0.        ,\n",
    "        0.        , 0.        , 0.        , 0.        , 0.60399997,\n",
    "        0.32499999],\n",
    "       [1.        , 0.        , 0.        , 0.        , 1.        ,\n",
    "        0.        , 0.        , 1.        , 0.        , 0.60399997,\n",
    "        0.51099998],\n",
    "       [0.        , 1.        , 0.        , 0.        , 0.        ,\n",
    "        0.        , 0.        , 0.        , 1.        , 0.73199999,\n",
    "        0.51099998],\n",
    "       [0.        , 1.        , 0.        , 0.        , 0.        ,\n",
    "        0.        , 0.        , 0.        , 1.        , 0.046     ,\n",
    "        0.32499999],\n",
    "       [0.        , 1.        , 0.        , 0.        , 0.        ,\n",
    "        0.        , 0.        , 0.        , 1.        , 0.73199999,\n",
    "        0.51099998],\n",
    "       [0.        , 1.        , 0.        , 0.        , 0.        ,\n",
    "        0.        , 1.        , 0.        , 0.        , 0.73199999,\n",
    "        0.034     ],\n",
    "       [0.        , 1.        , 0.        , 0.        , 0.        ,\n",
    "        0.        , 0.        , 0.        , 1.        , 0.127     ,\n",
    "        0.034     ],\n",
    "       [0.        , 1.        , 0.        , 0.        , 0.        ,\n",
    "        0.        , 1.        , 0.        , 0.        , 0.73199999,\n",
    "        0.32499999],\n",
    "       [0.        , 1.        , 0.        , 0.        , 0.        ,\n",
    "        0.        , 1.        , 0.        , 1.        , 0.90600002,\n",
    "        0.45300001],\n",
    "       [0.        , 1.        , 0.        , 0.        , 0.        ,\n",
    "        0.        , 0.        , 0.        , 1.        , 0.465     ,\n",
    "        0.465     ],\n",
    "       [0.        , 0.        , 0.        , 0.        , 0.        ,\n",
    "        0.        , 0.        , 0.        , 1.        , 0.465     ,\n",
    "        0.465     ],\n",
    "       [0.        , 1.        , 0.        , 0.        , 0.        ,\n",
    "        0.        , 0.        , 0.        , 1.        , 0.465     ,\n",
    "        0.465     ],\n",
    "       [0.        , 1.        , 0.        , 0.        , 0.        ,\n",
    "        0.        , 0.        , 0.        , 1.        , 0.465     ,\n",
    "        0.465     ],\n",
    "       [1.        , 0.        , 0.        , 0.        , 0.        ,\n",
    "        0.        , 0.        , 0.        , 1.        , 0.127     ,\n",
    "        0.093     ],\n",
    "       [1.        , 0.        , 0.        , 0.        , 0.        ,\n",
    "        1.        , 0.        , 1.        , 0.        , 0.43000001,\n",
    "        0.91799998],\n",
    "       [1.        , 0.        , 0.        , 0.        , 0.        ,\n",
    "        0.        , 0.        , 1.        , 0.        , 0.43000001,\n",
    "        0.91799998],\n",
    "       [1.        , 0.        , 0.        , 0.        , 0.        ,\n",
    "        0.        , 0.        , 1.        , 0.        , 0.43000001,\n",
    "        0.91799998],\n",
    "       [0.        , 1.        , 0.        , 0.        , 0.        ,\n",
    "        0.        , 1.        , 0.        , 1.        , 0.093     ,\n",
    "        0.51099998],\n",
    "       [1.        , 0.        , 0.        , 0.        , 0.        ,\n",
    "        0.        , 0.        , 0.        , 1.        , 0.197     ,\n",
    "        0.51099998],\n",
    "       [1.        , 0.        , 0.        , 0.        , 0.        ,\n",
    "        1.        , 0.        , 1.        , 0.        , 0.31299999,\n",
    "        0.51099998],\n",
    "       [0.        , 1.        , 0.        , 0.        , 0.        ,\n",
    "        0.        , 0.        , 0.        , 0.        , 0.22      ,\n",
    "        0.116     ],\n",
    "       [0.        , 1.        , 0.        , 0.        , 0.        ,\n",
    "        0.        , 1.        , 0.        , 0.        , 0.046     ,\n",
    "        0.104     ],\n",
    "       [0.        , 1.        , 0.        , 0.        , 0.        ,\n",
    "        0.        , 0.        , 0.        , 0.        , 0.26699999,\n",
    "        0.27900001],\n",
    "       [1.        , 0.        , 0.        , 1.        , 0.        ,\n",
    "        0.        , 0.        , 0.        , 1.        , 0.82499999,\n",
    "        0.65100002],\n",
    "       [1.        , 0.        , 0.        , 0.        , 0.        ,\n",
    "        0.        , 0.        , 0.        , 1.        , 0.82499999,\n",
    "        0.65100002],\n",
    "       [0.        , 1.        , 0.        , 0.        , 0.        ,\n",
    "        0.        , 0.        , 0.        , 1.        , 0.87199998,\n",
    "        0.32499999],\n",
    "       [1.        , 0.        , 1.        , 0.        , 0.        ,\n",
    "        0.        , 0.        , 0.        , 1.        , 0.30199999,\n",
    "        0.51099998],\n",
    "       [1.        , 0.        , 1.        , 0.        , 1.        ,\n",
    "        0.        , 0.        , 1.        , 0.        , 0.60399997,\n",
    "        0.65100002],\n",
    "       [1.        , 0.        , 1.        , 0.        , 1.        ,\n",
    "        0.        , 0.        , 1.        , 0.        , 0.73199999,\n",
    "        0.44100001],\n",
    "       [1.        , 0.        , 1.        , 0.        , 0.        ,\n",
    "        0.        , 0.        , 1.        , 0.        , 0.96499997,\n",
    "        0.86000001],\n",
    "       [1.        , 0.        , 0.        , 0.        , 0.        ,\n",
    "        0.        , 0.        , 1.        , 0.        , 0.31299999,\n",
    "        0.86000001],\n",
    "       [1.        , 0.        , 0.        , 1.        , 0.        ,\n",
    "        0.        , 0.        , 1.        , 0.        , 0.31299999,\n",
    "        0.91799998],\n",
    "       [0.        , 1.        , 0.        , 0.        , 0.        ,\n",
    "        0.        , 1.        , 0.        , 1.        , 0.84799999,\n",
    "        0.32499999],\n",
    "       [1.        , 0.        , 0.        , 1.        , 0.        ,\n",
    "        0.        , 0.        , 1.        , 0.        , 0.60399997,\n",
    "        0.76700002],\n",
    "       [1.        , 0.        , 0.        , 0.        , 0.        ,\n",
    "        1.        , 0.        , 1.        , 0.        , 0.31299999,\n",
    "        0.76700002],\n",
    "       [0.        , 1.        , 0.        , 0.        , 0.        ,\n",
    "        0.        , 0.        , 0.        , 1.        , 0.197     ,\n",
    "        0.97600001],\n",
    "       [0.        , 1.        , 0.        , 0.        , 0.        ,\n",
    "        0.        , 0.        , 0.        , 1.        , 0.22      ,\n",
    "        0.32499999],\n",
    "       [0.        , 0.        , 0.        , 1.        , 1.        ,\n",
    "        0.        , 0.        , 1.        , 0.        , 0.465     ,\n",
    "        0.76700002],\n",
    "       [1.        , 0.        , 0.        , 1.        , 0.        ,\n",
    "        0.        , 0.        , 0.        , 1.        , 0.59299999,\n",
    "        0.65100002],\n",
    "       [0.        , 0.        , 0.        , 0.        , 0.        ,\n",
    "        0.        , 0.        , 0.        , 1.        , 0.093     ,\n",
    "        0.023     ],\n",
    "       [0.        , 1.        , 0.        , 0.        , 0.        ,\n",
    "        0.        , 1.        , 0.        , 1.        , 0.60399997,\n",
    "        0.83700001],\n",
    "       [0.        , 1.        , 0.        , 0.        , 0.        ,\n",
    "        0.        , 0.        , 0.        , 1.        , 0.58099997,\n",
    "        0.116     ],\n",
    "       [1.        , 0.        , 0.        , 1.        , 0.        ,\n",
    "        0.        , 0.        , 0.        , 0.        , 0.034     ,\n",
    "        0.27900001],\n",
    "       [1.        , 0.        , 0.        , 1.        , 0.        ,\n",
    "        0.        , 0.        , 0.        , 0.        , 0.72000003,\n",
    "        0.65100002],\n",
    "       [1.        , 0.        , 0.        , 1.        , 0.        ,\n",
    "        0.        , 0.        , 0.        , 1.        , 0.40599999,\n",
    "        0.65100002],\n",
    "       [1.        , 0.        , 0.        , 1.        , 0.        ,\n",
    "        0.        , 0.        , 0.        , 0.        , 0.98799998,\n",
    "        0.65100002],\n",
    "       [0.        , 1.        , 0.        , 0.        , 0.        ,\n",
    "        0.        , 1.        , 0.        , 0.        , 0.73199999,\n",
    "        0.96499997],\n",
    "       [1.        , 0.        , 1.        , 0.        , 0.        ,\n",
    "        0.        , 0.        , 0.        , 1.        , 0.86000001,\n",
    "        0.86000001],\n",
    "       [0.        , 0.        , 0.        , 0.        , 0.        ,\n",
    "        0.        , 1.        , 0.        , 1.        , 0.73199999,\n",
    "        0.069     ],\n",
    "       [0.        , 1.        , 0.        , 0.        , 0.        ,\n",
    "        0.        , 1.        , 0.        , 1.        , 0.87199998,\n",
    "        0.27900001],\n",
    "       [1.        , 0.        , 0.        , 0.        , 0.        ,\n",
    "        0.        , 0.        , 0.        , 1.        , 0.22      ,\n",
    "        0.081     ],\n",
    "       [0.        , 1.        , 0.        , 0.        , 0.        ,\n",
    "        0.        , 0.        , 0.        , 1.        , 0.94099998,\n",
    "        0.22      ],\n",
    "       [0.        , 1.        , 0.        , 0.        , 0.        ,\n",
    "        0.        , 0.        , 0.        , 1.        , 0.94099998,\n",
    "        0.22      ],\n",
    "       [1.        , 0.        , 0.        , 0.        , 0.        ,\n",
    "        0.        , 0.        , 0.        , 1.        , 0.26699999,\n",
    "        0.97600001],\n",
    "       [0.        , 1.        , 0.        , 0.        , 0.        ,\n",
    "        0.        , 1.        , 0.        , 1.        , 0.26699999,\n",
    "        0.116     ],\n",
    "       [1.        , 0.        , 1.        , 1.        , 1.        ,\n",
    "        0.        , 0.        , 1.        , 0.        , 0.546     ,\n",
    "        0.65100002],\n",
    "       [1.        , 0.        , 1.        , 1.        , 0.        ,\n",
    "        1.        , 0.        , 1.        , 0.        , 0.60399997,\n",
    "        0.65100002],\n",
    "       [0.        , 1.        , 0.        , 0.        , 0.        ,\n",
    "        0.        , 0.        , 0.        , 1.        , 0.069     ,\n",
    "        0.116     ],\n",
    "       [0.        , 1.        , 0.        , 0.        , 0.        ,\n",
    "        0.        , 0.        , 0.        , 1.        , 0.069     ,\n",
    "        0.116     ],\n",
    "       [0.        , 1.        , 0.        , 0.        , 0.        ,\n",
    "        0.        , 0.        , 0.        , 1.        , 0.15099999,\n",
    "        0.22      ],\n",
    "       [0.        , 1.        , 0.        , 0.        , 0.        ,\n",
    "        0.        , 1.        , 0.        , 1.        , 0.56900001,\n",
    "        0.058     ],\n",
    "       [0.        , 0.        , 1.        , 0.        , 0.        ,\n",
    "        0.        , 0.        , 0.        , 1.        , 0.96499997,\n",
    "        0.76700002],\n",
    "       [0.        , 0.        , 1.        , 0.        , 0.        ,\n",
    "        0.        , 0.        , 0.        , 0.        , 0.41800001,\n",
    "        0.32499999],\n",
    "       [0.        , 1.        , 0.        , 0.        , 0.        ,\n",
    "        0.        , 0.        , 0.        , 0.        , 0.162     ,\n",
    "        0.116     ],\n",
    "       [0.        , 1.        , 0.        , 0.        , 0.        ,\n",
    "        0.        , 0.        , 0.        , 1.        , 0.60399997,\n",
    "        0.755     ],\n",
    "       [1.        , 1.        , 0.        , 0.        , 0.        ,\n",
    "        0.        , 1.        , 0.        , 0.        , 0.60399997,\n",
    "        0.32499999],\n",
    "       [1.        , 0.        , 0.        , 0.        , 0.        ,\n",
    "        0.        , 0.        , 0.        , 0.        , 0.31299999,\n",
    "        0.51099998],\n",
    "       [1.        , 0.        , 0.        , 0.        , 0.        ,\n",
    "        0.        , 0.        , 0.        , 1.        , 0.17399999,\n",
    "        0.011     ],\n",
    "       [1.        , 0.        , 0.        , 0.        , 0.        ,\n",
    "        0.        , 0.        , 1.        , 0.        , 0.465     ,\n",
    "        0.32499999],\n",
    "       [0.        , 1.        , 0.        , 0.        , 0.        ,\n",
    "        0.        , 0.        , 0.        , 1.        , 0.31299999,\n",
    "        0.255     ],\n",
    "       [1.        , 0.        , 1.        , 0.        , 0.        ,\n",
    "        1.        , 0.        , 1.        , 0.        , 0.546     ,\n",
    "        0.90600002],\n",
    "       [0.        , 1.        , 0.        , 0.        , 0.        ,\n",
    "        0.        , 0.        , 0.        , 0.        , 0.22      ,\n",
    "        0.116     ],\n",
    "       [0.        , 1.        , 0.        , 0.        , 0.        ,\n",
    "        0.        , 1.        , 0.        , 0.        , 0.093     ,\n",
    "        0.116     ],\n",
    "       [0.        , 1.        , 0.        , 0.        , 0.        ,\n",
    "        0.        , 0.        , 0.        , 1.        , 0.31299999,\n",
    "        0.31299999],\n",
    "       [0.        , 0.        , 1.        , 0.        , 0.        ,\n",
    "        0.        , 1.        , 0.        , 0.        , 0.186     ,\n",
    "        0.26699999],\n",
    "       [1.        , 0.        , 0.        , 0.        , 0.        ,\n",
    "        1.        , 0.        , 0.        , 1.        , 0.87199998,\n",
    "        0.84799999]])"
   ]
  },
  {
   "cell_type": "code",
   "execution_count": 42,
   "id": "fbcc3bcc",
   "metadata": {},
   "outputs": [
    {
     "name": "stdout",
     "output_type": "stream",
     "text": [
      "Number of training indices: 68\n",
      "Number of validation indices: 17\n",
      "Number of training indices: 68\n",
      "Number of validation indices: 17\n",
      "Number of training indices: 68\n",
      "Number of validation indices: 17\n",
      "Number of training indices: 68\n",
      "Number of validation indices: 17\n",
      "Number of training indices: 68\n",
      "Number of validation indices: 17\n"
     ]
    }
   ],
   "source": [
    "from sklearn.model_selection import KFold\n",
    "\n",
    "# Use KFold\n",
    "kf = KFold(n_splits=5, shuffle=True, random_state=111)\n",
    "\n",
    "# Create splits\n",
    "splits = kf.split(X)\n",
    "\n",
    "# Print the number of indices\n",
    "for train_index, val_index in splits:\n",
    "    print(\"Number of training indices: %s\" % len(train_index))\n",
    "    print(\"Number of validation indices: %s\" % len(val_index))"
   ]
  },
  {
   "cell_type": "markdown",
   "id": "b8c96699",
   "metadata": {},
   "source": [
    "## Using KFold indices\n",
    "You have already created `splits`, which contains indices for the candy-data dataset to complete 5-fold cross-validation. To get a better estimate for how well a colleague's random forest model will perform on a new data, you want to run this model on the five different training and validation indices you just created.\n",
    "\n",
    "In this exercise, you will use these indices to check the accuracy of this model using the five different splits. A for loop has been provided to assist with this process."
   ]
  },
  {
   "cell_type": "code",
   "execution_count": 43,
   "id": "60ea7744",
   "metadata": {},
   "outputs": [],
   "source": [
    "y = np.array([66.971725, 67.602936, 32.261086, 46.116505, 52.341465, 50.347546,\n",
    "       56.914547, 23.417824, 38.010963, 34.517681, 38.975037, 36.017628,\n",
    "       24.524988, 42.272076, 39.460556, 43.088924, 39.185505, 46.783348,\n",
    "       57.11974 , 34.158958, 51.41243 , 42.178772, 55.375454, 62.284481,\n",
    "       56.490501, 59.236122, 28.127439, 57.21925 , 76.7686  , 41.389557,\n",
    "       39.141056, 52.911392, 71.46505 , 66.574585, 46.411716, 55.064072,\n",
    "       73.099556, 60.800701, 64.35334 , 47.829754, 54.526451, 55.354046,\n",
    "       70.735641, 66.47068 , 22.445341, 39.4468  , 46.296597, 69.483788,\n",
    "       37.722336, 41.265511, 37.348522, 81.866257, 84.18029 , 73.43499 ,\n",
    "       72.887901, 35.290756, 65.716286, 29.703691, 42.849144, 34.722   ,\n",
    "       63.08514 , 55.103695, 37.887188, 45.995827, 76.673782, 59.529251,\n",
    "       59.863998, 52.825947, 67.037628, 34.578991, 33.43755 , 32.230995,\n",
    "       27.303865, 54.861111, 48.982651, 43.068897, 45.736748, 49.653503,\n",
    "       47.173229, 81.642914, 45.466282, 39.011898, 44.375519, 41.904308,\n",
    "       49.524113])"
   ]
  },
  {
   "cell_type": "code",
   "execution_count": 44,
   "id": "0f3573f3",
   "metadata": {},
   "outputs": [],
   "source": [
    "from sklearn.ensemble import RandomForestRegressor\n",
    "from sklearn.metrics import mean_squared_error\n",
    "\n",
    "rfc = RandomForestRegressor(n_estimators=25, random_state=1111)"
   ]
  },
  {
   "cell_type": "code",
   "execution_count": 46,
   "id": "5675c400",
   "metadata": {},
   "outputs": [],
   "source": [
    "# Access the training and validation indices of splits\n",
    "for train_index, val_index in splits:\n",
    "    # Setup the training and validation data\n",
    "    X_train, y_train = X[train_index], y[train_index]\n",
    "    X_val, y_val = X[val_index], y[val_index]\n",
    "    # Fit the random forest model\n",
    "    rfc.fit(X_train, y_train)\n",
    "    # Make predictions, and print the accuracy\n",
    "    predictions = rfc.predict(X_val)\n",
    "    \n",
    "    print(\"Split accuracy: \" + str(mean_squared_error(y_val, predictions)))"
   ]
  },
  {
   "cell_type": "markdown",
   "id": "61d40b81",
   "metadata": {},
   "source": [
    "## sklearn's cross_val_score()\n"
   ]
  },
  {
   "cell_type": "markdown",
   "id": "58756d37",
   "metadata": {},
   "source": [
    "## scikit-learn's methods\n",
    "You have decided to build a regression model to predict the number of new employees your company will successfully hire next month. You open up a new Python script to get started, but you quickly realize that `sklearn` has a lot of different modules. Let's make sure you understand the names of the modules, the methods, and which module contains which method.\n",
    "\n",
    "Follow the instructions below to load in all of the necessary methods for completing cross-validation using sklearn. You will use modules:\n",
    "\n",
    "* `metrics`\n",
    "* `model_selection`\n",
    "* `ensemble`"
   ]
  },
  {
   "cell_type": "code",
   "execution_count": 48,
   "id": "47aff5b5",
   "metadata": {},
   "outputs": [],
   "source": [
    "# Instruction 1: Load the cross-validation method\n",
    "from sklearn.model_selection import cross_val_score\n",
    "\n",
    "# Instruction 2: Load the random forest regression model\n",
    "from sklearn.ensemble import RandomForestRegressor\n",
    "\n",
    "# Instruction 3: Load the mean squared error method\n",
    "# Instruction 4: Load the function for creating a scorer\n",
    "from sklearn.metrics import mean_squared_error, make_scorer"
   ]
  },
  {
   "cell_type": "markdown",
   "id": "5be10556",
   "metadata": {},
   "source": [
    "## Implement cross_val_score()\n",
    "Your company has created several new candies to sell, but they are not sure if they should release all five of them. To predict the popularity of these new candies, you have been asked to build a regression model using the candy dataset. Remember that the response value is a head-to-head win-percentage against other candies.\n",
    "\n",
    "Before you begin trying different regression models, you have decided to run cross-validation on a simple random forest model to get a baseline error to compare with any future results."
   ]
  },
  {
   "cell_type": "code",
   "execution_count": 50,
   "id": "c8bf0bd5",
   "metadata": {},
   "outputs": [],
   "source": [
    "import warnings\n",
    "warnings.filterwarnings('ignore')"
   ]
  },
  {
   "cell_type": "code",
   "execution_count": 52,
   "id": "e6aa5fdc",
   "metadata": {},
   "outputs": [
    {
     "name": "stdout",
     "output_type": "stream",
     "text": [
      "105.12333834489831\n"
     ]
    }
   ],
   "source": [
    "rfc = RandomForestRegressor(n_estimators=25, random_state=1111)\n",
    "mse = make_scorer(mean_squared_error)\n",
    "\n",
    "# Set up cross_val_score\n",
    "cv = cross_val_score(estimator=rfc,\n",
    "                     X=X_train,\n",
    "                     y=y_train,\n",
    "                     cv=10,\n",
    "                     scoring=mse)\n",
    "\n",
    "# Print the mean error\n",
    "print(cv.mean())"
   ]
  },
  {
   "cell_type": "markdown",
   "id": "4f19b01d",
   "metadata": {},
   "source": [
    "## Leave-one-out-cross-validation (LOOCV)"
   ]
  },
  {
   "cell_type": "markdown",
   "id": "c19bc027",
   "metadata": {},
   "source": [
    "Use when:\n",
    "* the amount of training data is limited\n",
    "* you want the absolute best error estimate for new data\n",
    "    \n",
    "Be cautious when:\n",
    "* computational resources are limited\n",
    "* you have a lot of data\n",
    "* you have a lot of parameters to test"
   ]
  },
  {
   "cell_type": "markdown",
   "id": "e5da803c",
   "metadata": {},
   "source": [
    "## Leave-one-out-cross-validation\n",
    "Let's assume your favorite candy is not in the candy dataset, and that you are interested in the popularity of this candy. Using 5-fold cross-validation will train on only 80% of the data at a time. The candy dataset only has 85 rows though, and leaving out 20% of the data could hinder our model. However, using leave-one-out-cross-validation allows us to make the most out of our limited dataset and will give you the best estimate for your favorite candy's popularity!\n",
    "\n",
    "In this exercise, you will use `cross_val_score()` to perform LOOCV."
   ]
  },
  {
   "cell_type": "code",
   "execution_count": 53,
   "id": "4a0e89f7",
   "metadata": {},
   "outputs": [
    {
     "name": "stdout",
     "output_type": "stream",
     "text": [
      "The mean of the errors is: 9.52044832324183.\n",
      "The standard deviation of the errors is: 7.349020637882744.\n"
     ]
    }
   ],
   "source": [
    "from sklearn.metrics import mean_absolute_error, make_scorer\n",
    "\n",
    "# Create scorer\n",
    "mae_scorer = make_scorer(mean_absolute_error)\n",
    "\n",
    "rfr = RandomForestRegressor(n_estimators=15, random_state=1111)\n",
    "\n",
    "# Implement LOOCV\n",
    "scores = cross_val_score(rfr, X=X, y=y, cv=len(X), scoring=mae_scorer)\n",
    "\n",
    "# Print the mean and standard deviation\n",
    "print(\"The mean of the errors is: %s.\" % np.mean(scores))\n",
    "print(\"The standard deviation of the errors is: %s.\" % np.std(scores))"
   ]
  },
  {
   "cell_type": "code",
   "execution_count": null,
   "id": "85798e72",
   "metadata": {},
   "outputs": [],
   "source": []
  }
 ],
 "metadata": {
  "kernelspec": {
   "display_name": "Python 3",
   "language": "python",
   "name": "python3"
  },
  "language_info": {
   "codemirror_mode": {
    "name": "ipython",
    "version": 3
   },
   "file_extension": ".py",
   "mimetype": "text/x-python",
   "name": "python",
   "nbconvert_exporter": "python",
   "pygments_lexer": "ipython3",
   "version": "3.9.4"
  }
 },
 "nbformat": 4,
 "nbformat_minor": 5
}
